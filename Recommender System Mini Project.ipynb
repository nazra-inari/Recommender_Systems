{
 "cells": [
  {
   "cell_type": "code",
   "execution_count": 1,
   "metadata": {},
   "outputs": [],
   "source": [
    "import os\n",
    "import json\n",
    "import pickle\n",
    "import numpy as np\n",
    "import random\n",
    "import pandas as pd\n",
    "import matplotlib.pyplot as plt\n",
    "from scipy.sparse import csr_matrix as sparse_matrix\n",
    "\n",
    "from sklearn.neighbors import NearestNeighbors\n",
    "from sklearn.decomposition import TruncatedSVD"
   ]
  },
  {
   "cell_type": "markdown",
   "metadata": {},
   "source": [
    "# Intro\n",
    "\n",
    "We'll be using the [Amazon product data set](http://jmcauley.ucsd.edu/data/amazon/). The author of the data set has asked for the following citations:\n",
    "\n",
    "> Ups and downs: Modeling the visual evolution of fashion trends with one-class collaborative filtering.\n",
    "> R. He, J. McAuley.\n",
    "> WWW, 2016.\n",
    "> \n",
    "> Image-based recommendations on styles and substitutes.\n",
    "> J. McAuley, C. Targett, J. Shi, A. van den Hengel.\n",
    "> SIGIR, 2015.\n",
    "\n",
    "We will focus on the Patio, Lawn, and Garden section. Please download the [ratings](http://snap.stanford.edu/data/amazon/productGraph/categoryFiles/ratings_Patio_Lawn_and_Garden.csv) and place them in the data directory with their default filenames. The code below should load the data:"
   ]
  },
  {
   "cell_type": "code",
   "execution_count": 2,
   "metadata": {},
   "outputs": [
    {
     "data": {
      "text/html": [
       "<div>\n",
       "<style scoped>\n",
       "    .dataframe tbody tr th:only-of-type {\n",
       "        vertical-align: middle;\n",
       "    }\n",
       "\n",
       "    .dataframe tbody tr th {\n",
       "        vertical-align: top;\n",
       "    }\n",
       "\n",
       "    .dataframe thead th {\n",
       "        text-align: right;\n",
       "    }\n",
       "</style>\n",
       "<table border=\"1\" class=\"dataframe\">\n",
       "  <thead>\n",
       "    <tr style=\"text-align: right;\">\n",
       "      <th></th>\n",
       "      <th>user</th>\n",
       "      <th>item</th>\n",
       "      <th>rating</th>\n",
       "      <th>timestamp</th>\n",
       "    </tr>\n",
       "  </thead>\n",
       "  <tbody>\n",
       "    <tr>\n",
       "      <th>0</th>\n",
       "      <td>A2VNYWOPJ13AFP</td>\n",
       "      <td>0981850006</td>\n",
       "      <td>5.0</td>\n",
       "      <td>1259798400</td>\n",
       "    </tr>\n",
       "    <tr>\n",
       "      <th>1</th>\n",
       "      <td>A20DWVV8HML3AW</td>\n",
       "      <td>0981850006</td>\n",
       "      <td>5.0</td>\n",
       "      <td>1371081600</td>\n",
       "    </tr>\n",
       "    <tr>\n",
       "      <th>2</th>\n",
       "      <td>A3RVP3YBYYOPRH</td>\n",
       "      <td>0981850006</td>\n",
       "      <td>5.0</td>\n",
       "      <td>1257984000</td>\n",
       "    </tr>\n",
       "    <tr>\n",
       "      <th>3</th>\n",
       "      <td>A28XY55TP3Q90O</td>\n",
       "      <td>0981850006</td>\n",
       "      <td>5.0</td>\n",
       "      <td>1314144000</td>\n",
       "    </tr>\n",
       "    <tr>\n",
       "      <th>4</th>\n",
       "      <td>A3VZW1BGUQO0V3</td>\n",
       "      <td>0981850006</td>\n",
       "      <td>5.0</td>\n",
       "      <td>1308268800</td>\n",
       "    </tr>\n",
       "  </tbody>\n",
       "</table>\n",
       "</div>"
      ],
      "text/plain": [
       "             user        item  rating   timestamp\n",
       "0  A2VNYWOPJ13AFP  0981850006     5.0  1259798400\n",
       "1  A20DWVV8HML3AW  0981850006     5.0  1371081600\n",
       "2  A3RVP3YBYYOPRH  0981850006     5.0  1257984000\n",
       "3  A28XY55TP3Q90O  0981850006     5.0  1314144000\n",
       "4  A3VZW1BGUQO0V3  0981850006     5.0  1308268800"
      ]
     },
     "execution_count": 2,
     "metadata": {},
     "output_type": "execute_result"
    }
   ],
   "source": [
    "filename = \"/Users/arzan/MDS/ratings_Patio_Lawn_and_Garden.csv\"\n",
    "\n",
    "with open(os.path.join(\"data\", filename), \"rb\") as f:\n",
    "    ratings = pd.read_csv(f,names=(\"user\",\"item\",\"rating\",\"timestamp\"))\n",
    "ratings.head()"
   ]
  },
  {
   "cell_type": "markdown",
   "metadata": {},
   "source": [
    "We'd also like to construct the data matrix `X`. Let's see how big it would be:"
   ]
  },
  {
   "cell_type": "code",
   "execution_count": 3,
   "metadata": {},
   "outputs": [
    {
     "name": "stdout",
     "output_type": "stream",
     "text": [
      "Number of ratings: 993490\n",
      "The average rating: 4.006400668350965\n",
      "Number of users: 714791\n",
      "Number of items: 105984\n",
      "Fraction nonzero: 1.3114269915944552e-05\n",
      "Size of full X matrix (GB): 606.051274752\n"
     ]
    }
   ],
   "source": [
    "def get_stats(ratings, item_key=\"item\", user_key=\"user\"):\n",
    "    print(\"Number of ratings:\", len(ratings))\n",
    "    print(\"The average rating:\", np.mean(ratings[\"rating\"]))\n",
    "\n",
    "    n = len(set(ratings[item_key]))\n",
    "    d = len(set(ratings[user_key]))\n",
    "    print(\"Number of users:\", d)\n",
    "    print(\"Number of items:\", n)\n",
    "    print(\"Fraction nonzero:\", len(ratings)/(n*d))\n",
    "    print(\"Size of full X matrix (GB):\", (n*d)*8/1e9)\n",
    "\n",
    "    return n,d\n",
    "\n",
    "n,d = get_stats(ratings)"
   ]
  },
  {
   "cell_type": "markdown",
   "metadata": {},
   "source": [
    "600 GB! That is way too big. We don't want to create that matrix. On the other hand, we see that we only have about 1 million ratings, which would be 8 MB or so ($10^6$ numbers $\\times$ 8 bytes per number). Much more manageable. "
   ]
  },
  {
   "cell_type": "code",
   "execution_count": 4,
   "metadata": {},
   "outputs": [],
   "source": [
    "def create_X(ratings, n, d, user_key=\"user\", item_key=\"item\"):\n",
    "    \"\"\"\n",
    "    Creates a sparse matrix using scipy.csr_matrix and mappers to relate indexes to items' id.\n",
    "    \n",
    "    Parameters:\n",
    "    -----------\n",
    "    ratings: the ratings to be stored in the matrix;\n",
    "    n: the number of items\n",
    "    d: the number of users\n",
    "    user_key: the column in the pandas dataframe that contains the users id\n",
    "    item_key: the column in the pandas dataframe that contains the items id\n",
    "    \n",
    "    Returns: (X, user_mapper, item_mapper, user_inverse_mapper, item_inverse_mapper, user_ind, item_ind)\n",
    "    --------\n",
    "    X: the sparse matrix containing the ratings. Note that\n",
    "    user_mapper: stores the indexes of the users - the user_id is the key;\n",
    "    item_mapper: stores the indexes of the items - the item_id is the key;\n",
    "    user_inverse_mapper: stores the user id - the user index is the key;\n",
    "    item_inverse_mapper: stores the item id - the item index is the key;\n",
    "    user_ind: indexes of the users;\n",
    "    item_ind: indexes of the items;\n",
    "    \"\"\"\n",
    "    \n",
    "    user_mapper = dict(zip(np.unique(ratings[user_key]), list(range(d))))\n",
    "    item_mapper = dict(zip(np.unique(ratings[item_key]), list(range(n))))\n",
    "\n",
    "    user_inverse_mapper = dict(zip(list(range(d)), np.unique(ratings[user_key])))\n",
    "    item_inverse_mapper = dict(zip(list(range(n)), np.unique(ratings[item_key])))\n",
    "\n",
    "    user_ind = [user_mapper[i] for i in ratings[user_key]]\n",
    "    item_ind = [item_mapper[i] for i in ratings[item_key]]\n",
    "\n",
    "    X = sparse_matrix((ratings[\"rating\"], (item_ind, user_ind)), shape=(n,d))\n",
    "    \n",
    "    return X, user_mapper, item_mapper, user_inverse_mapper, item_inverse_mapper, user_ind, item_ind\n",
    "\n",
    "X, user_mapper, item_mapper, user_inverse_mapper, item_inverse_mapper, user_ind, item_ind = create_X(ratings, n, d)"
   ]
  },
  {
   "cell_type": "markdown",
   "metadata": {},
   "source": [
    "Note the shape of `X`: our rows are the products, and the columns (features) are the users. So, for each product, the ratings of all users forms the feature vector."
   ]
  },
  {
   "cell_type": "code",
   "execution_count": 5,
   "metadata": {},
   "outputs": [
    {
     "name": "stdout",
     "output_type": "stream",
     "text": [
      "(105984, 714791)\n",
      "993490\n"
     ]
    }
   ],
   "source": [
    "# sanity check\n",
    "print(X.shape) # should be number of items by number of users\n",
    "print(X.nnz)   # number of nonzero elements -- should equal number of ratings"
   ]
  },
  {
   "cell_type": "code",
   "execution_count": 6,
   "metadata": {},
   "outputs": [
    {
     "data": {
      "text/plain": [
       "7947920"
      ]
     },
     "execution_count": 6,
     "metadata": {},
     "output_type": "execute_result"
    }
   ],
   "source": [
    "X.data.nbytes"
   ]
  },
  {
   "cell_type": "markdown",
   "metadata": {},
   "source": [
    "(Above: our calculation of 8 MB was right on. No surprises there.)"
   ]
  },
  {
   "cell_type": "markdown",
   "metadata": {},
   "source": [
    "Let's aim to find the following items:\n",
    "\n",
    "- the item with the most reviews\n",
    "- the item with the most total stars\n",
    "- the item with the lowest average stars\n",
    "\n",
    "Then, find the names of these items by looking them up with the url https://www.amazon.com/dp/ITEM_ID, where `ITEM_ID` is the id of the item."
   ]
  },
  {
   "cell_type": "code",
   "execution_count": 7,
   "metadata": {},
   "outputs": [
    {
     "name": "stdout",
     "output_type": "stream",
     "text": [
      "https://www.amazon.com/dp/B00CFM0P7Y\n"
     ]
    }
   ],
   "source": [
    "url_amazon = \"https://www.amazon.com/dp/%s\"\n",
    "\n",
    "# example:\n",
    "print(url_amazon % 'B00CFM0P7Y')"
   ]
  },
  {
   "cell_type": "code",
   "execution_count": 8,
   "metadata": {},
   "outputs": [
    {
     "data": {
      "text/plain": [
       "scipy.sparse.csr.csr_matrix"
      ]
     },
     "execution_count": 8,
     "metadata": {},
     "output_type": "execute_result"
    }
   ],
   "source": [
    "type(X)"
   ]
  },
  {
   "cell_type": "code",
   "execution_count": 9,
   "metadata": {},
   "outputs": [],
   "source": [
    "def print_item_info(item):\n",
    "    '''\n",
    "    Function to print movie info\n",
    "    '''\n",
    "    print(\"Item index with most reviews is: {}\".format(item))\n",
    "    print(\"Link to the item:\", url_amazon % item_inverse_mapper[item])\n",
    "    print(\"Average rating: \", X[item].sum(axis = 1)/X[item].getnnz(axis = 1))"
   ]
  },
  {
   "cell_type": "code",
   "execution_count": 10,
   "metadata": {},
   "outputs": [
    {
     "name": "stdout",
     "output_type": "stream",
     "text": [
      "Item index with most reviews is: 10959\n",
      "Link to the item: https://www.amazon.com/dp/B000HCLLMM\n",
      "Average rating:  [[4.54528302]]\n",
      "Name of the item: Classic Accessories 73942 Veranda Grill Cover, X-Large, Pebble\n"
     ]
    }
   ],
   "source": [
    "# getting the item with most reviews\n",
    "item = np.argmax(X.getnnz(axis = 1))\n",
    "print_item_info(item)\n",
    "print(\"Name of the item: Classic Accessories 73942 Veranda Grill Cover, X-Large, Pebble\")"
   ]
  },
  {
   "cell_type": "code",
   "execution_count": 11,
   "metadata": {},
   "outputs": [
    {
     "name": "stdout",
     "output_type": "stream",
     "text": [
      "Item index with most reviews is: 10959\n",
      "Link to the item: https://www.amazon.com/dp/B000HCLLMM\n",
      "Average rating:  [[4.54528302]]\n",
      "Name of the item: Classic Accessories 73942 Veranda Grill Cover, X-Large, Pebble\n"
     ]
    }
   ],
   "source": [
    "# getting the item with most stars\n",
    "item = np.argmax(X.sum(axis = 1))\n",
    "print_item_info(item)\n",
    "print(\"Name of the item: Classic Accessories 73942 Veranda Grill Cover, X-Large, Pebble\")"
   ]
  },
  {
   "cell_type": "code",
   "execution_count": 12,
   "metadata": {},
   "outputs": [
    {
     "name": "stdout",
     "output_type": "stream",
     "text": [
      "Item index with most reviews is: 10\n",
      "Link to the item: https://www.amazon.com/dp/6035000037\n",
      "Average rating:  [[1.]]\n",
      "Name of the item: 13ft Sycamore Wood Centre Pole Beige Umbrella Outdoor Patio Beach Market Garden\n"
     ]
    }
   ],
   "source": [
    "# getting the item with lowest average\n",
    "item = np.argmin(X.mean(axis = 1))\n",
    "print_item_info(item)\n",
    "print(\"Name of the item: 13ft Sycamore Wood Centre Pole Beige Umbrella Outdoor Patio Beach Market Garden\")"
   ]
  },
  {
   "cell_type": "markdown",
   "metadata": {},
   "source": [
    "Make a histogram of the number of ratings per user and the number of ratings per item, and comment on the results. You use\n",
    "\n",
    "```\n",
    "plt.yscale('log', nonposy='clip')\n",
    "``` \n",
    "\n",
    "to put the histogram on a log-scale."
   ]
  },
  {
   "cell_type": "code",
   "execution_count": 13,
   "metadata": {},
   "outputs": [
    {
     "data": {
      "text/plain": [
       "(105984, 714791)"
      ]
     },
     "execution_count": 13,
     "metadata": {},
     "output_type": "execute_result"
    }
   ],
   "source": [
    "X.shape"
   ]
  },
  {
   "cell_type": "code",
   "execution_count": 14,
   "metadata": {},
   "outputs": [
    {
     "data": {
      "text/plain": [
       "(105984,)"
      ]
     },
     "execution_count": 14,
     "metadata": {},
     "output_type": "execute_result"
    }
   ],
   "source": [
    "# number of items\n",
    "X.getnnz(axis = 1).shape"
   ]
  },
  {
   "cell_type": "code",
   "execution_count": 15,
   "metadata": {},
   "outputs": [
    {
     "data": {
      "text/plain": [
       "(714791,)"
      ]
     },
     "execution_count": 15,
     "metadata": {},
     "output_type": "execute_result"
    }
   ],
   "source": [
    "# number of users\n",
    "X.getnnz(axis = 0).shape"
   ]
  },
  {
   "cell_type": "code",
   "execution_count": 16,
   "metadata": {
    "scrolled": true
   },
   "outputs": [],
   "source": [
    "def make_hist(X, axis, title=None):\n",
    "    vals = X.getnnz(axis = axis)\n",
    "    plt.hist(vals, bins=20)\n",
    "    label = \"\"\n",
    "    if axis == 1:\n",
    "        label = \"Item ratings\"\n",
    "    else:\n",
    "        label = \"User ratings\"\n",
    "    plt.xlabel(label)\n",
    "    plt.ylabel(\"count\")\n",
    "    plt.yscale('log', nonposy='clip')\n",
    "    plt.show()"
   ]
  },
  {
   "cell_type": "code",
   "execution_count": 17,
   "metadata": {},
   "outputs": [
    {
     "data": {
      "image/png": "[encoded data removed]",
      "text/plain": [
       "<Figure size 432x288 with 1 Axes>"
      ]
     },
     "metadata": {},
     "output_type": "display_data"
    },
    {
     "data": {
      "image/png": "[encoded data removed]",
      "text/plain": [
       "<Figure size 432x288 with 1 Axes>"
      ]
     },
     "metadata": {},
     "output_type": "display_data"
    }
   ],
   "source": [
    "# histogram for item ratings\n",
    "make_hist(X, 1)\n",
    "# histogram for user ratings\n",
    "make_hist(X, 0)"
   ]
  },
  {
   "cell_type": "markdown",
   "metadata": {},
   "source": [
    "## Mr Grill\n",
    "\n",
    "Use scikit-learn's [NearestNeighbors](http://scikit-learn.org/stable/modules/generated/sklearn.neighbors.NearestNeighbors.html) object (which uses Euclidean distance by default) to find the 5 items most similar to [MIGO PL-028-8, 8 Pack](https://www.amazon.com/dp/B00CFM0P7Y). \n",
    "\n",
    "(PS: two of these items are not in the Amazon website anymore)\n",
    "\n",
    "Note: if you inspect the above URL, you'll see that the item ID is `B00CFM0P7Y`, which you'll need. The code block below grabs the row of `X` associated with the grill brush. The mappers take care of going back and forther between the IDs (like `B00CFM0P7Y`) and the indices of the sparse array (0,1,2,...)."
   ]
  },
  {
   "cell_type": "code",
   "execution_count": 18,
   "metadata": {},
   "outputs": [],
   "source": [
    "grill_brush = \"B00CFM0P7Y\"\n",
    "grill_brush_ind = item_mapper[grill_brush]\n",
    "grill_brush_vec = X[grill_brush_ind]"
   ]
  },
  {
   "cell_type": "code",
   "execution_count": 19,
   "metadata": {},
   "outputs": [],
   "source": [
    "def find_nearestneighbour(model, X, query_ind, show_ratings = False):\n",
    "    model.fit(X)\n",
    "    query_vec = X[query_ind]\n",
    "    query_vec = query_vec.reshape(1, -1)\n",
    "    query = model.kneighbors(query_vec, 6, return_distance=False)\n",
    "    print(\"Indices of nearest neighbors:\", query[0])\n",
    "    for i in range(1, np.size(query[0])):\n",
    "        ind = query[0][i]\n",
    "        link = item_inverse_mapper[ind]\n",
    "        if not show_ratings:\n",
    "            print(\"Link to the item {}:\".format(i), url_amazon % link)\n",
    "        else:\n",
    "            print(\"Link to the item {}:\".format(i), url_amazon % link, \\\n",
    "                  \"with total ratings: {}\".format( X[query[0][i]].sum(axis = 1)))"
   ]
  },
  {
   "cell_type": "code",
   "execution_count": 20,
   "metadata": {},
   "outputs": [
    {
     "name": "stdout",
     "output_type": "stream",
     "text": [
      "Indices of nearest neighbors: [ 93652 103866 103865  98897  72226 102810]\n",
      "Link to the item 1: https://www.amazon.com/dp/B00IJB5MCS\n",
      "Link to the item 2: https://www.amazon.com/dp/B00IJB4MLA\n",
      "Link to the item 3: https://www.amazon.com/dp/B00EXE4O42\n",
      "Link to the item 4: https://www.amazon.com/dp/B00743MZCM\n",
      "Link to the item 5: https://www.amazon.com/dp/B00HVXQY9A\n"
     ]
    }
   ],
   "source": [
    "neigh = NearestNeighbors(n_neighbors=5, metric=\"euclidean\", n_jobs=-1)\n",
    "find_nearestneighbour(neigh, X, grill_brush_ind)"
   ]
  },
  {
   "cell_type": "markdown",
   "metadata": {},
   "source": [
    "> The last two items have been removed from Amazon."
   ]
  },
  {
   "cell_type": "markdown",
   "metadata": {},
   "source": [
    "## cosine similarity\n",
    "\n",
    "Using cosine similarity instead of Euclidean distance in `NearestNeighbors`, find the 5 products most similar to `B00CFM0P7Y`."
   ]
  },
  {
   "cell_type": "code",
   "execution_count": 21,
   "metadata": {},
   "outputs": [
    {
     "name": "stdout",
     "output_type": "stream",
     "text": [
      "Indices of nearest neighbors: [ 93652 103866 103867 103865  98068  98066]\n",
      "Link to the item 1: https://www.amazon.com/dp/B00IJB5MCS\n",
      "Link to the item 2: https://www.amazon.com/dp/B00IJB8F3G\n",
      "Link to the item 3: https://www.amazon.com/dp/B00IJB4MLA\n",
      "Link to the item 4: https://www.amazon.com/dp/B00EF45AHU\n",
      "Link to the item 5: https://www.amazon.com/dp/B00EF3YF0Y\n"
     ]
    }
   ],
   "source": [
    "# using cosine similarity\n",
    "\n",
    "neigh = NearestNeighbors(n_neighbors=5, metric=\"cosine\", n_jobs=-1)\n",
    "find_nearestneighbour(neigh, X, grill_brush_ind)"
   ]
  },
  {
   "cell_type": "markdown",
   "metadata": {},
   "source": [
    "## Euclidean distance vs. cosine similarity\n",
    "\n",
    "Let's now do the following to further understand our results\n",
    "1. For each of the two metrics, compute the compute the total popularity (total stars) of each of the 5 items and report it. \n",
    "2. What's the difference between Euclidean distance vs. cosine similarity? "
   ]
  },
  {
   "cell_type": "code",
   "execution_count": 22,
   "metadata": {},
   "outputs": [
    {
     "name": "stdout",
     "output_type": "stream",
     "text": [
      "Indices of nearest neighbors: [ 93652 103866 103865  98897  72226 102810]\n",
      "Link to the item 1: https://www.amazon.com/dp/B00IJB5MCS with total ratings: [[266.]]\n",
      "Link to the item 2: https://www.amazon.com/dp/B00IJB4MLA with total ratings: [[205.]]\n",
      "Link to the item 3: https://www.amazon.com/dp/B00EXE4O42 with total ratings: [[5.]]\n",
      "Link to the item 4: https://www.amazon.com/dp/B00743MZCM with total ratings: [[5.]]\n",
      "Link to the item 5: https://www.amazon.com/dp/B00HVXQY9A with total ratings: [[5.]]\n"
     ]
    }
   ],
   "source": [
    "# for euclidean case\n",
    "neigh = NearestNeighbors(n_neighbors=5, metric=\"euclidean\", n_jobs=-1)\n",
    "find_nearestneighbour(neigh, X, grill_brush_ind, show_ratings = True)"
   ]
  },
  {
   "cell_type": "code",
   "execution_count": 23,
   "metadata": {},
   "outputs": [
    {
     "name": "stdout",
     "output_type": "stream",
     "text": [
      "Indices of nearest neighbors: [ 93652 103866 103867 103865  98068  98066]\n",
      "Link to the item 1: https://www.amazon.com/dp/B00IJB5MCS with total ratings: [[266.]]\n",
      "Link to the item 2: https://www.amazon.com/dp/B00IJB8F3G with total ratings: [[438.]]\n",
      "Link to the item 3: https://www.amazon.com/dp/B00IJB4MLA with total ratings: [[205.]]\n",
      "Link to the item 4: https://www.amazon.com/dp/B00EF45AHU with total ratings: [[311.]]\n",
      "Link to the item 5: https://www.amazon.com/dp/B00EF3YF0Y with total ratings: [[513.]]\n"
     ]
    }
   ],
   "source": [
    "# for cosine case\n",
    "neigh = NearestNeighbors(n_neighbors=5, metric=\"cosine\", n_jobs=-1)\n",
    "find_nearestneighbour(neigh, X, grill_brush_ind, show_ratings=True)"
   ]
  },
  {
   "cell_type": "markdown",
   "metadata": {},
   "source": [
    "> In high dimensions, most of the points seem to lie on a sphere and with `Cosine` similarity, we are obtaining items that are closer to each other in property as it uses the angles between the objects which make sense considering points lying on a sphere. With `Euclidean` similarity on the other hand, we get total ratings values which are not very close or similar to each other which makes sense because we are using a distance metric for calculating the neighbors and these distances might be similar for very dissimilar points lying in a high-dimensional space."
   ]
  },
  {
   "cell_type": "markdown",
   "metadata": {},
   "source": [
    "## Items with a reviewer in common\n",
    "\n",
    "In all the above, our feature vectors are the vectors of all the user ratings for a given item. These features are quite sparse: from above we can see that only about $1$ in $100,000$ user-item combinations actually has a rating. As a result, when comparing two items we really don't have a lot of information. For example, what if two items have no users in common whatsoever? (Meaning, there does not exist a user that has rated both items). In this case, the cosine similarity between two such items would be zero, since the cosine similarity is just a normalized dot product, and each term in the dot product is zero (it's worth pondering this until you're sure you understand).\n",
    "\n",
    "Given the above, we'd never connect two such items, although they may in reality be quite similar. For example, we might know item A is very similar to item B and that item B is very similar to item C, but not grasp the connection between A and C because they might not have any ratings in common.\n",
    "\n",
    "Let's try to understand how often this happens."
   ]
  },
  {
   "cell_type": "markdown",
   "metadata": {},
   "source": [
    "We have $n$ items which means we have roughly $n^2$ pairs of items. Well, $n(n-1)/2$ to be exact."
   ]
  },
  {
   "cell_type": "code",
   "execution_count": 24,
   "metadata": {},
   "outputs": [
    {
     "data": {
      "text/plain": [
       "5616251136"
      ]
     },
     "execution_count": 24,
     "metadata": {},
     "output_type": "execute_result"
    }
   ],
   "source": [
    "num_pairs = n*(n-1)//2\n",
    "num_pairs"
   ]
  },
  {
   "cell_type": "markdown",
   "metadata": {},
   "source": [
    "For all the ~5 billion pairs of items in our data set, let's find the fraction of them that have no users in common."
   ]
  },
  {
   "cell_type": "code",
   "execution_count": 25,
   "metadata": {},
   "outputs": [
    {
     "name": "stdout",
     "output_type": "stream",
     "text": [
      "Fraction of items with no users: 0.00014\n"
     ]
    }
   ],
   "source": [
    "# I can get the number of zeros in X.T@X and that will give me the number of dot products that are 0\n",
    "check_nz = X@X.T\n",
    "\n",
    "# the total number of entries should be equal to (num_pairs * 2 + n)\n",
    "# (as num_pairs = number of entries in the lower triangular matrix)\n",
    "\n",
    "(check_nz.shape[0])**2 == num_pairs*2 + n\n",
    "\n",
    "# checking non-zero entries in the matrix\n",
    "print(\"Fraction of items with no users: {:.5f}\".format(check_nz.getnnz(None) / (num_pairs*2 + n)))"
   ]
  },
  {
   "cell_type": "markdown",
   "metadata": {},
   "source": [
    "> This is very low rate for the dot product being zero. I didn't expect this at first but it kind of makes sense as since we have so many items and users, the probability of getting a 0 dot product is very low (which we can see from the above number)."
   ]
  },
  {
   "cell_type": "markdown",
   "metadata": {},
   "source": [
    "## Matrix completion with SVD\n",
    "\n",
    "Let's run collaborative filtering on this data set. \n",
    "\n",
    "**Plan A**: we run PCA on the matrix, and then look at the reconstruction we get from PCA. The reconstruction will be dense, whereas the original matrix is sparse. We can then run nearest neighbours on this dense matrix and hope for better results. But, wait. Didn't we say above that the dense $n \\times n$ matrix is way too big to deal with? Ok, let's try something slightly different. \n",
    "\n",
    "**Plan B**: PCA gives us an approximation\n",
    "\n",
    "$$X \\approx ZW$$\n",
    "\n",
    "where $Z$ is a $n \\times k$ matrix of \"factor loadings\" and $W$ is a $k \\times d$ matrix of our principal components or \"factors\". (So we've actually got a [low-rank approximation](https://en.wikipedia.org/wiki/Low-rank_approximation) to our original matrix $X$).\n",
    "\n",
    "Let's use a fairly small value of $k$, and then do our nearest neighbours on the $Z$ matrix. We can give this a shot with $k=10$ again using the NearestNeighbors class with Euclidean distance. You can use scikit-learn's [TruncatedSVD](http://scikit-learn.org/stable/modules/generated/sklearn.decomposition.TruncatedSVD.html) to perform the dimensionality reduction. (We want a truncated rather than full SVD since a full SVD would involve $n\\times n$ matrices, which we've already established are too big to deal with. And then we'd only use the first $k$ rows of it anyway. So a full SVD would be both impossible and pointless.) \n"
   ]
  },
  {
   "cell_type": "code",
   "execution_count": 26,
   "metadata": {},
   "outputs": [
    {
     "data": {
      "text/plain": [
       "(105984, 714791)"
      ]
     },
     "execution_count": 26,
     "metadata": {},
     "output_type": "execute_result"
    }
   ],
   "source": [
    "X.shape"
   ]
  },
  {
   "cell_type": "code",
   "execution_count": 27,
   "metadata": {},
   "outputs": [
    {
     "data": {
      "text/plain": [
       "(105984, 10)"
      ]
     },
     "execution_count": 27,
     "metadata": {},
     "output_type": "execute_result"
    }
   ],
   "source": [
    "svd = TruncatedSVD(n_components=10, n_iter=10, random_state=42)\n",
    "svd.fit(X)\n",
    "Z = svd.transform(X)\n",
    "Z.shape"
   ]
  },
  {
   "cell_type": "code",
   "execution_count": 28,
   "metadata": {},
   "outputs": [
    {
     "name": "stdout",
     "output_type": "stream",
     "text": [
      "Indices of nearest neighbors: [93652 13756 10620 31819 19540 27755]\n",
      "Link to the item 1: https://www.amazon.com/dp/B000MVLB8W\n",
      "Link to the item 2: https://www.amazon.com/dp/B000H1SJ8C\n",
      "Link to the item 3: https://www.amazon.com/dp/B001VNC3Q4\n",
      "Link to the item 4: https://www.amazon.com/dp/B000X9BNG8\n",
      "Link to the item 5: https://www.amazon.com/dp/B001H1NG1Q\n"
     ]
    }
   ],
   "source": [
    "# for euclidean case\n",
    "neigh = NearestNeighbors(n_neighbors=5, metric=\"euclidean\", n_jobs=-1)\n",
    "find_nearestneighbour(neigh, Z, grill_brush_ind)"
   ]
  },
  {
   "cell_type": "markdown",
   "metadata": {},
   "source": [
    "> Looking at the results, the transformation into a smaller dimension subspace to get a dense matrix and then using the nearest neighbors with euclidean metric seems to give a better result than what we got earlier with euclidean metric. The items seem to be similar and closely related (grill and outdoor cooking category)."
   ]
  },
  {
   "cell_type": "markdown",
   "metadata": {},
   "source": [
    "# Movie recommendations\n",
    "\n",
    "\n",
    "\n",
    "For this part of the notebook I'm gonna use the [MovieLens](https://grouplens.org/datasets/movielens/) dataset. We'll use the small version of the data set which you can download [here](http://files.grouplens.org/datasets/movielens/ml-latest-small.zip). Please download it and put the unzipped directory in your `data` directory. The structure of the data is described in the [README](http://files.grouplens.org/datasets/movielens/ml-latest-small-README.html) that comes with the data. \n",
    "\n",
    "\n",
    "The loading and parsing of the data is done for you below."
   ]
  },
  {
   "cell_type": "code",
   "execution_count": 29,
   "metadata": {},
   "outputs": [
    {
     "data": {
      "text/html": [
       "<div>\n",
       "<style scoped>\n",
       "    .dataframe tbody tr th:only-of-type {\n",
       "        vertical-align: middle;\n",
       "    }\n",
       "\n",
       "    .dataframe tbody tr th {\n",
       "        vertical-align: top;\n",
       "    }\n",
       "\n",
       "    .dataframe thead th {\n",
       "        text-align: right;\n",
       "    }\n",
       "</style>\n",
       "<table border=\"1\" class=\"dataframe\">\n",
       "  <thead>\n",
       "    <tr style=\"text-align: right;\">\n",
       "      <th></th>\n",
       "      <th>userId</th>\n",
       "      <th>movieId</th>\n",
       "      <th>rating</th>\n",
       "      <th>timestamp</th>\n",
       "    </tr>\n",
       "  </thead>\n",
       "  <tbody>\n",
       "    <tr>\n",
       "      <th>0</th>\n",
       "      <td>1</td>\n",
       "      <td>1</td>\n",
       "      <td>4.0</td>\n",
       "      <td>964982703</td>\n",
       "    </tr>\n",
       "    <tr>\n",
       "      <th>1</th>\n",
       "      <td>1</td>\n",
       "      <td>3</td>\n",
       "      <td>4.0</td>\n",
       "      <td>964981247</td>\n",
       "    </tr>\n",
       "    <tr>\n",
       "      <th>2</th>\n",
       "      <td>1</td>\n",
       "      <td>6</td>\n",
       "      <td>4.0</td>\n",
       "      <td>964982224</td>\n",
       "    </tr>\n",
       "    <tr>\n",
       "      <th>3</th>\n",
       "      <td>1</td>\n",
       "      <td>47</td>\n",
       "      <td>5.0</td>\n",
       "      <td>964983815</td>\n",
       "    </tr>\n",
       "    <tr>\n",
       "      <th>4</th>\n",
       "      <td>1</td>\n",
       "      <td>50</td>\n",
       "      <td>5.0</td>\n",
       "      <td>964982931</td>\n",
       "    </tr>\n",
       "  </tbody>\n",
       "</table>\n",
       "</div>"
      ],
      "text/plain": [
       "   userId  movieId  rating  timestamp\n",
       "0       1        1     4.0  964982703\n",
       "1       1        3     4.0  964981247\n",
       "2       1        6     4.0  964982224\n",
       "3       1       47     5.0  964983815\n",
       "4       1       50     5.0  964982931"
      ]
     },
     "execution_count": 29,
     "metadata": {},
     "output_type": "execute_result"
    }
   ],
   "source": [
    "movie_ratings = pd.read_csv(os.path.join(\"/Users/arzan/MDS\", \"ml-latest-small\", \"ratings.csv\"))\n",
    "movie_ratings.head()"
   ]
  },
  {
   "cell_type": "code",
   "execution_count": 30,
   "metadata": {},
   "outputs": [
    {
     "name": "stdout",
     "output_type": "stream",
     "text": [
      "Number of ratings: 100836\n",
      "The average rating: 3.501556983616962\n",
      "Number of users: 610\n",
      "Number of items: 9724\n",
      "Fraction nonzero: 0.016999683055613623\n",
      "Size of full X matrix (GB): 0.04745312\n"
     ]
    }
   ],
   "source": [
    "movie_n, movie_d = get_stats(movie_ratings, user_key=\"userId\", item_key=\"movieId\")"
   ]
  },
  {
   "cell_type": "code",
   "execution_count": 31,
   "metadata": {},
   "outputs": [],
   "source": [
    "movie_X, user_mapper, movie_mapper, user_inverse_mapper, movie_inverse_mapper, user_ind, \\\n",
    "movie_ind = create_X(movie_ratings, movie_n, movie_d, user_key=\"userId\", item_key=\"movieId\")"
   ]
  },
  {
   "cell_type": "code",
   "execution_count": 32,
   "metadata": {},
   "outputs": [],
   "source": [
    "toy_story_ind = 0\n",
    "toy_story_vec = movie_X[toy_story_ind]"
   ]
  },
  {
   "cell_type": "code",
   "execution_count": 33,
   "metadata": {},
   "outputs": [
    {
     "data": {
      "text/html": [
       "<div>\n",
       "<style scoped>\n",
       "    .dataframe tbody tr th:only-of-type {\n",
       "        vertical-align: middle;\n",
       "    }\n",
       "\n",
       "    .dataframe tbody tr th {\n",
       "        vertical-align: top;\n",
       "    }\n",
       "\n",
       "    .dataframe thead th {\n",
       "        text-align: right;\n",
       "    }\n",
       "</style>\n",
       "<table border=\"1\" class=\"dataframe\">\n",
       "  <thead>\n",
       "    <tr style=\"text-align: right;\">\n",
       "      <th></th>\n",
       "      <th>title</th>\n",
       "      <th>genres</th>\n",
       "    </tr>\n",
       "    <tr>\n",
       "      <th>movieId</th>\n",
       "      <th></th>\n",
       "      <th></th>\n",
       "    </tr>\n",
       "  </thead>\n",
       "  <tbody>\n",
       "    <tr>\n",
       "      <th>1</th>\n",
       "      <td>Toy Story (1995)</td>\n",
       "      <td>Adventure|Animation|Children|Comedy|Fantasy</td>\n",
       "    </tr>\n",
       "    <tr>\n",
       "      <th>2</th>\n",
       "      <td>Jumanji (1995)</td>\n",
       "      <td>Adventure|Children|Fantasy</td>\n",
       "    </tr>\n",
       "    <tr>\n",
       "      <th>3</th>\n",
       "      <td>Grumpier Old Men (1995)</td>\n",
       "      <td>Comedy|Romance</td>\n",
       "    </tr>\n",
       "    <tr>\n",
       "      <th>4</th>\n",
       "      <td>Waiting to Exhale (1995)</td>\n",
       "      <td>Comedy|Drama|Romance</td>\n",
       "    </tr>\n",
       "    <tr>\n",
       "      <th>5</th>\n",
       "      <td>Father of the Bride Part II (1995)</td>\n",
       "      <td>Comedy</td>\n",
       "    </tr>\n",
       "  </tbody>\n",
       "</table>\n",
       "</div>"
      ],
      "text/plain": [
       "                                      title  \\\n",
       "movieId                                       \n",
       "1                          Toy Story (1995)   \n",
       "2                            Jumanji (1995)   \n",
       "3                   Grumpier Old Men (1995)   \n",
       "4                  Waiting to Exhale (1995)   \n",
       "5        Father of the Bride Part II (1995)   \n",
       "\n",
       "                                              genres  \n",
       "movieId                                               \n",
       "1        Adventure|Animation|Children|Comedy|Fantasy  \n",
       "2                         Adventure|Children|Fantasy  \n",
       "3                                     Comedy|Romance  \n",
       "4                               Comedy|Drama|Romance  \n",
       "5                                             Comedy  "
      ]
     },
     "execution_count": 33,
     "metadata": {},
     "output_type": "execute_result"
    }
   ],
   "source": [
    "# to look up titles\n",
    "movie_info = pd.read_csv(os.path.join(\"/Users/arzan/MDS\", \"ml-latest-small\", \"movies.csv\"),index_col=0)\n",
    "movie_info.head()"
   ]
  },
  {
   "cell_type": "markdown",
   "metadata": {},
   "source": [
    "Instead of the MIGO PL-028-8, 8 Pack, let's instead use our \"query item\" as _Toy Story_, which is the first movie in the list (`movieId`=1). Like with Amazon, you can look up the recommended movies by looking at the `links.csv` file, which gives you the IMDB id of each movie, allowing you to form a URL of the form http://www.imdb.com/title/ttXXXXXXX/ where `XXXXXXX` is the movie's IMDB id. However, that extra work isn't really necessary here since we have a second table mapping `movieId` to movie title, so you can just grab the titles and print them out directly (see below).\n"
   ]
  },
  {
   "cell_type": "code",
   "execution_count": 34,
   "metadata": {},
   "outputs": [
    {
     "data": {
      "text/html": [
       "<div>\n",
       "<style scoped>\n",
       "    .dataframe tbody tr th:only-of-type {\n",
       "        vertical-align: middle;\n",
       "    }\n",
       "\n",
       "    .dataframe tbody tr th {\n",
       "        vertical-align: top;\n",
       "    }\n",
       "\n",
       "    .dataframe thead th {\n",
       "        text-align: right;\n",
       "    }\n",
       "</style>\n",
       "<table border=\"1\" class=\"dataframe\">\n",
       "  <thead>\n",
       "    <tr style=\"text-align: right;\">\n",
       "      <th></th>\n",
       "      <th>imdbId</th>\n",
       "      <th>tmdbId</th>\n",
       "    </tr>\n",
       "    <tr>\n",
       "      <th>movieId</th>\n",
       "      <th></th>\n",
       "      <th></th>\n",
       "    </tr>\n",
       "  </thead>\n",
       "  <tbody>\n",
       "    <tr>\n",
       "      <th>1</th>\n",
       "      <td>0114709</td>\n",
       "      <td>862.0</td>\n",
       "    </tr>\n",
       "    <tr>\n",
       "      <th>2</th>\n",
       "      <td>0113497</td>\n",
       "      <td>8844.0</td>\n",
       "    </tr>\n",
       "    <tr>\n",
       "      <th>3</th>\n",
       "      <td>0113228</td>\n",
       "      <td>15602.0</td>\n",
       "    </tr>\n",
       "    <tr>\n",
       "      <th>4</th>\n",
       "      <td>0114885</td>\n",
       "      <td>31357.0</td>\n",
       "    </tr>\n",
       "    <tr>\n",
       "      <th>5</th>\n",
       "      <td>0113041</td>\n",
       "      <td>11862.0</td>\n",
       "    </tr>\n",
       "  </tbody>\n",
       "</table>\n",
       "</div>"
      ],
      "text/plain": [
       "          imdbId   tmdbId\n",
       "movieId                  \n",
       "1        0114709    862.0\n",
       "2        0113497   8844.0\n",
       "3        0113228  15602.0\n",
       "4        0114885  31357.0\n",
       "5        0113041  11862.0"
      ]
     },
     "execution_count": 34,
     "metadata": {},
     "output_type": "execute_result"
    }
   ],
   "source": [
    "# to look up links\n",
    "movie_links = pd.read_csv(os.path.join(\"/Users/adityasharma/Desktop\", \\\n",
    "                                       \"ml-latest-small\", \"links.csv\"), index_col=0, dtype={'imdbId': object})\n",
    "movie_links.head()"
   ]
  },
  {
   "cell_type": "code",
   "execution_count": 35,
   "metadata": {},
   "outputs": [],
   "source": [
    "url_imdb = \"http://www.imdb.com/title/tt%s\"\n",
    "\n",
    "def print_movie_info(item):\n",
    "    '''\n",
    "    Function to print movie info\n",
    "    '''\n",
    "    print(\"Movie index is: {}\".format(item))\n",
    "    print(\"The movie details are: {}\".format(movie_info[movie_info.index.values == movie_inverse_mapper[item]]))\n",
    "    print(\"Link to the movie:\", \n",
    "          url_imdb % movie_links[movie_info.index.values == movie_inverse_mapper[item]].loc[:, 'imdbId'].values[0])\n",
    "    print(\"Average rating:\", movie_X[item].sum(axis = 1)/movie_X[item].getnnz(axis = 1))"
   ]
  },
  {
   "cell_type": "code",
   "execution_count": 36,
   "metadata": {},
   "outputs": [
    {
     "name": "stdout",
     "output_type": "stream",
     "text": [
      "Movie index is: 314\n",
      "The movie details are:                        title                    genres\n",
      "movieId                                               \n",
      "356      Forrest Gump (1994)  Comedy|Drama|Romance|War\n",
      "Link to the movie: http://www.imdb.com/title/tt0109830\n",
      "Average rating: [[4.16413374]]\n"
     ]
    }
   ],
   "source": [
    "# getting the movie with most reviews\n",
    "item = np.argmax(movie_X.getnnz(axis = 1))\n",
    "\n",
    "print_movie_info(item)"
   ]
  },
  {
   "cell_type": "code",
   "execution_count": 37,
   "metadata": {},
   "outputs": [
    {
     "name": "stdout",
     "output_type": "stream",
     "text": [
      "Movie index is: 277\n",
      "The movie details are:                                     title       genres\n",
      "movieId                                               \n",
      "318      Shawshank Redemption, The (1994)  Crime|Drama\n",
      "Link to the movie: http://www.imdb.com/title/tt0111161\n",
      "Average rating: [[4.42902208]]\n"
     ]
    }
   ],
   "source": [
    "# getting the movie with most total stars\n",
    "item = np.argmax(movie_X.sum(axis = 1))\n",
    "print_movie_info(item)"
   ]
  },
  {
   "cell_type": "code",
   "execution_count": 38,
   "metadata": {},
   "outputs": [
    {
     "name": "stdout",
     "output_type": "stream",
     "text": [
      "Movie index is: 2685\n",
      "The movie details are:                 title   genres\n",
      "movieId                       \n",
      "3604     Gypsy (1962)  Musical\n",
      "Link to the movie: http://www.imdb.com/title/tt0056048\n",
      "Average rating: [[0.5]]\n"
     ]
    }
   ],
   "source": [
    "# getting the movie with lowest average stars\n",
    "item = np.argmin(movie_X.mean(axis = 1))\n",
    "print_movie_info(item)"
   ]
  },
  {
   "cell_type": "markdown",
   "metadata": {},
   "source": [
    "---------------"
   ]
  },
  {
   "cell_type": "code",
   "execution_count": 39,
   "metadata": {},
   "outputs": [
    {
     "data": {
      "image/png": "[encoded data removed]",
      "text/plain": [
       "<Figure size 432x288 with 1 Axes>"
      ]
     },
     "metadata": {},
     "output_type": "display_data"
    },
    {
     "data": {
      "image/png": "[encoded data removed]",
      "text/plain": [
       "<Figure size 432x288 with 1 Axes>"
      ]
     },
     "metadata": {},
     "output_type": "display_data"
    }
   ],
   "source": [
    "# function already there for histogram (directly calling)\n",
    "\n",
    "# histogram for movie ratings\n",
    "make_hist(movie_X, 1)\n",
    "# histogram for user ratings\n",
    "make_hist(movie_X, 0)"
   ]
  },
  {
   "cell_type": "markdown",
   "metadata": {},
   "source": [
    "------\n"
   ]
  },
  {
   "cell_type": "code",
   "execution_count": 40,
   "metadata": {},
   "outputs": [],
   "source": [
    "def find_nearestneighbour_imdb(model, X, query_ind, show_ratings = False):\n",
    "    model.fit(X)\n",
    "    query_vec = X[query_ind]\n",
    "    query_vec = query_vec.reshape(1, -1)\n",
    "    query = model.kneighbors(query_vec, 6, return_distance=False)\n",
    "    print(\"Indices of nearest neighbors:\", query[0])\n",
    "    print(\"The nearest neighbors are: \\n\")\n",
    "    for i in range(1, np.size(query[0])):\n",
    "        ind = query[0][i]\n",
    "        link = movie_links.iloc[ind]['imdbId']\n",
    "        name = movie_info.iloc[ind]['title']\n",
    "        if not show_ratings:\n",
    "            print(\"{0}\".format(name), url_imdb % link)\n",
    "        else:\n",
    "            print(\"{0}\".format(name), url_imdb % link, \\\n",
    "                  \"Total ratings: {}\".format(X[query[0][i]].sum(axis = 1)))"
   ]
  },
  {
   "cell_type": "code",
   "execution_count": 41,
   "metadata": {},
   "outputs": [
    {
     "name": "stdout",
     "output_type": "stream",
     "text": [
      "Indices of nearest neighbors: [   0 2353  546  615 1756  622]\n",
      "The nearest neighbors are: \n",
      "\n",
      "'night Mother (1986) http://www.imdb.com/title/tt0090556\n",
      "Mission: Impossible (1996) http://www.imdb.com/title/tt0117060\n",
      "Independence Day (a.k.a. ID4) (1996) http://www.imdb.com/title/tt0116629\n",
      "Rugrats Movie, The (1998) http://www.imdb.com/title/tt0134067\n",
      "Nutty Professor, The (1996) http://www.imdb.com/title/tt0117218\n"
     ]
    }
   ],
   "source": [
    "# euclidean\n",
    "neigh = NearestNeighbors(n_neighbors=5, metric=\"euclidean\", n_jobs=-1)\n",
    "find_nearestneighbour_imdb(neigh, movie_X, toy_story_ind)"
   ]
  },
  {
   "cell_type": "code",
   "execution_count": 42,
   "metadata": {},
   "outputs": [
    {
     "name": "stdout",
     "output_type": "stream",
     "text": [
      "Indices of nearest neighbors: [   0 2353  418  615  224  314]\n",
      "The nearest neighbors are: \n",
      "\n",
      "'night Mother (1986) http://www.imdb.com/title/tt0090556\n",
      "Jurassic Park (1993) http://www.imdb.com/title/tt0107290\n",
      "Independence Day (a.k.a. ID4) (1996) http://www.imdb.com/title/tt0116629\n",
      "Star Wars: Episode IV - A New Hope (1977) http://www.imdb.com/title/tt0076759\n",
      "Forrest Gump (1994) http://www.imdb.com/title/tt0109830\n"
     ]
    }
   ],
   "source": [
    "# cosine\n",
    "neigh = NearestNeighbors(n_neighbors=5, metric=\"cosine\", n_jobs=-1)\n",
    "find_nearestneighbour_imdb(neigh, movie_X, toy_story_ind)"
   ]
  },
  {
   "cell_type": "markdown",
   "metadata": {},
   "source": [
    "-----"
   ]
  },
  {
   "cell_type": "code",
   "execution_count": 43,
   "metadata": {},
   "outputs": [
    {
     "name": "stdout",
     "output_type": "stream",
     "text": [
      "Indices of nearest neighbors: [   0 2353  546  615 1756  622]\n",
      "The nearest neighbors are: \n",
      "\n",
      "'night Mother (1986) http://www.imdb.com/title/tt0090556 Total ratings: [[374.5]]\n",
      "Mission: Impossible (1996) http://www.imdb.com/title/tt0117060 Total ratings: [[573.]]\n",
      "Independence Day (a.k.a. ID4) (1996) http://www.imdb.com/title/tt0116629 Total ratings: [[696.]]\n",
      "Rugrats Movie, The (1998) http://www.imdb.com/title/tt0134067 Total ratings: [[323.5]]\n",
      "Nutty Professor, The (1996) http://www.imdb.com/title/tt0117218 Total ratings: [[224.]]\n"
     ]
    }
   ],
   "source": [
    "# euclidean with total stars\n",
    "neigh = NearestNeighbors(n_neighbors=5, metric=\"euclidean\", n_jobs=-1)\n",
    "find_nearestneighbour_imdb(neigh, movie_X, toy_story_ind, show_ratings=True)"
   ]
  },
  {
   "cell_type": "code",
   "execution_count": 44,
   "metadata": {},
   "outputs": [
    {
     "name": "stdout",
     "output_type": "stream",
     "text": [
      "Indices of nearest neighbors: [   0 2353  418  615  224  314]\n",
      "The nearest neighbors are: \n",
      "\n",
      "'night Mother (1986) http://www.imdb.com/title/tt0090556 Total ratings: [[374.5]]\n",
      "Jurassic Park (1993) http://www.imdb.com/title/tt0107290 Total ratings: [[892.5]]\n",
      "Independence Day (a.k.a. ID4) (1996) http://www.imdb.com/title/tt0116629 Total ratings: [[696.]]\n",
      "Star Wars: Episode IV - A New Hope (1977) http://www.imdb.com/title/tt0076759 Total ratings: [[1062.]]\n",
      "Forrest Gump (1994) http://www.imdb.com/title/tt0109830 Total ratings: [[1370.]]\n"
     ]
    }
   ],
   "source": [
    "# cosine with total stars\n",
    "neigh = NearestNeighbors(n_neighbors=5, metric=\"cosine\", n_jobs=-1)\n",
    "find_nearestneighbour_imdb(neigh, movie_X, toy_story_ind, show_ratings=True)"
   ]
  },
  {
   "cell_type": "markdown",
   "metadata": {},
   "source": [
    "-----"
   ]
  },
  {
   "cell_type": "code",
   "execution_count": 45,
   "metadata": {},
   "outputs": [
    {
     "name": "stdout",
     "output_type": "stream",
     "text": [
      "Indices of nearest neighbors: [  0 615 968 418 506 546]\n",
      "The nearest neighbors are: \n",
      "\n",
      "Independence Day (a.k.a. ID4) (1996) http://www.imdb.com/title/tt0116629\n",
      "Arsenic and Old Lace (1944) http://www.imdb.com/title/tt0036613\n",
      "Jurassic Park (1993) http://www.imdb.com/title/tt0107290\n",
      "Aladdin (1992) http://www.imdb.com/title/tt0103639\n",
      "Mission: Impossible (1996) http://www.imdb.com/title/tt0117060\n"
     ]
    }
   ],
   "source": [
    "# using transformation through SVD\n",
    "svd = TruncatedSVD(n_components=10, n_iter=10, random_state=42)\n",
    "svd.fit(movie_X)\n",
    "Z = svd.transform(movie_X)\n",
    "\n",
    "neigh = NearestNeighbors(n_neighbors=5, metric=\"euclidean\", n_jobs=-1)\n",
    "find_nearestneighbour_imdb(neigh, Z, toy_story_ind)"
   ]
  },
  {
   "cell_type": "markdown",
   "metadata": {},
   "source": [
    "## Things that would be too slow with the Amazon dataset\n",
    "\n",
    "1. Let's increase $k$ (the number of components of the SVD) and see what happens to the recommendations, as compared to the Euclidean nearest neighbour recommendations, when $k$ is large and try . to explain this result mathematically.\n",
    "2. Something we can do with the SVD that we can't do with nearest neighbours is to predict missing ratings. For example, user 5 has not rated Toy Story. We can use the SVD to predict this rating, using the `inverse_transform` function of the `TruncatedSVD` class. \n",
    "3. Because of the size of the amazon data, the process in step is extremely slow. The problem is unavoidable if we want to predict all the missing ratings. However, if we really did just want to predict a single rating we could do that. "
   ]
  },
  {
   "cell_type": "code",
   "execution_count": 46,
   "metadata": {},
   "outputs": [
    {
     "name": "stdout",
     "output_type": "stream",
     "text": [
      "K = 20\n",
      "Indices of nearest neighbors: [  0 506 968 963 418 815]\n",
      "The nearest neighbors are: \n",
      "\n",
      "Aladdin (1992) http://www.imdb.com/title/tt0103639\n",
      "Arsenic and Old Lace (1944) http://www.imdb.com/title/tt0036613\n",
      "Diva (1981) http://www.imdb.com/title/tt0082269\n",
      "Jurassic Park (1993) http://www.imdb.com/title/tt0107290\n",
      "Willy Wonka & the Chocolate Factory (1971) http://www.imdb.com/title/tt0067992\n",
      "-----------------------------------------\n",
      "K = 220\n",
      "Indices of nearest neighbors: [   0 2353  615  546   32  325]\n",
      "The nearest neighbors are: \n",
      "\n",
      "'night Mother (1986) http://www.imdb.com/title/tt0090556\n",
      "Independence Day (a.k.a. ID4) (1996) http://www.imdb.com/title/tt0116629\n",
      "Mission: Impossible (1996) http://www.imdb.com/title/tt0117060\n",
      "Babe (1995) http://www.imdb.com/title/tt0112431\n",
      "Mask, The (1994) http://www.imdb.com/title/tt0110475\n",
      "-----------------------------------------\n",
      "K = 420\n",
      "Indices of nearest neighbors: [   0 2353  546  615  622 1756]\n",
      "The nearest neighbors are: \n",
      "\n",
      "'night Mother (1986) http://www.imdb.com/title/tt0090556\n",
      "Mission: Impossible (1996) http://www.imdb.com/title/tt0117060\n",
      "Independence Day (a.k.a. ID4) (1996) http://www.imdb.com/title/tt0116629\n",
      "Nutty Professor, The (1996) http://www.imdb.com/title/tt0117218\n",
      "Rugrats Movie, The (1998) http://www.imdb.com/title/tt0134067\n",
      "-----------------------------------------\n"
     ]
    }
   ],
   "source": [
    "# increasing k with SVD\n",
    "for k in range(20, 600, 200):\n",
    "    print(\"K = {}\".format(k))\n",
    "    svd = TruncatedSVD(n_components=k, n_iter=10, random_state=42)\n",
    "    svd.fit(movie_X)\n",
    "    Z = svd.transform(movie_X)\n",
    "\n",
    "    neigh = NearestNeighbors(n_neighbors=5, metric=\"euclidean\", n_jobs=-1)\n",
    "    find_nearestneighbour_imdb(neigh, Z, toy_story_ind)\n",
    "    print(\"-----------------------------------------\")"
   ]
  },
  {
   "cell_type": "markdown",
   "metadata": {},
   "source": [
    "> We see that the recommendations on increasing $k$ for SVD become close to what the actual recommendations are which can be measured by checking the example given for user 5 and toy story. This makes sense as we are trying to learn a low dimensional representation with SVD and on increasing $k$, we are learning the same information in more dimensions and the algorithm tries to incorporate the contribution of many reconstructed dimensions."
   ]
  },
  {
   "cell_type": "code",
   "execution_count": 47,
   "metadata": {},
   "outputs": [
    {
     "name": "stdout",
     "output_type": "stream",
     "text": [
      "getting original rating:\n",
      "4.0\n",
      "getting constructed rating for user 5 for toy story, k = 200:\n",
      "2.413488464104162\n",
      "getting constructed rating for user 5 for toy story, k = 300:\n",
      "3.3472874523990916\n",
      "getting constructed rating for user 5 for toy story, k = 400:\n",
      "3.9871429092584494\n"
     ]
    }
   ],
   "source": [
    "# transforming to a new dimension representation\n",
    "print(\"getting original rating:\")\n",
    "print(movie_X[0, 4])\n",
    "for n in [200, 300, 400]:\n",
    "    svd = TruncatedSVD(n_components=n, n_iter=10, random_state=12345)\n",
    "    svd.fit(movie_X)\n",
    "    Z = svd.transform(movie_X)\n",
    "    movie_new = svd.inverse_transform(Z)\n",
    "    Z.shape\n",
    "\n",
    "    print(\"getting constructed rating for user 5 for toy story, k = {}:\". format(n))\n",
    "    print(movie_new[0, 4])"
   ]
  },
  {
   "cell_type": "markdown",
   "metadata": {},
   "source": [
    "The above example shows that the reconstruction is better with increasing $k$."
   ]
  },
  {
   "cell_type": "markdown",
   "metadata": {},
   "source": [
    "**3.** The amazon data is very huge and it would require a lot of time go through this process for such a large dataset. Let us try to do it for a single user and item:"
   ]
  },
  {
   "cell_type": "code",
   "execution_count": 48,
   "metadata": {},
   "outputs": [
    {
     "data": {
      "text/plain": [
       "(10, 10)"
      ]
     },
     "execution_count": 48,
     "metadata": {},
     "output_type": "execute_result"
    }
   ],
   "source": [
    "sub_X = X[0:10, :]\n",
    "svd = TruncatedSVD(n_components=200, n_iter=10, random_state=12345)\n",
    "svd.fit(sub_X)\n",
    "Z = svd.transform(sub_X)\n",
    "movie_new = svd.inverse_transform(Z)\n",
    "Z.shape"
   ]
  },
  {
   "cell_type": "code",
   "execution_count": 49,
   "metadata": {},
   "outputs": [
    {
     "data": {
      "text/plain": [
       "-1.4316688435111548e-18"
      ]
     },
     "execution_count": 49,
     "metadata": {},
     "output_type": "execute_result"
    }
   ],
   "source": [
    "# reconstructed rating\n",
    "movie_new[9,4]"
   ]
  },
  {
   "cell_type": "markdown",
   "metadata": {},
   "source": [
    "# Brain Tease\n",
    "\n",
    "For each of the following methods, let's understand how it might be applied to the problem of item recommendation:\n",
    "\n",
    "1. Clustering\n",
    "2. Graphs and breadth-first search\n"
   ]
  },
  {
   "cell_type": "markdown",
   "metadata": {},
   "source": [
    "1. **Clustering**: For item recommendation, we could cluster items closer to each other in the feature space as having similar properties which is what we do above with euclidean distance. If we cluster the items after proper transformation, we will get meaningful clusters that will have some common property like how we found after using dimensionality reduction using SVD with euclidean distance for the amazon dataset.\n",
    "\n",
    "2. **Graphs and breadth-first search**: If we try to use graph algorithms such as BFS, we can star with one item in the feature space and decide a fixed depth $d$ until which we will consider items as similar to the original item. Now performing BFS, all the items within a distance less than or equal to this number $d$ will be considered similar and can be recommended to the users that liked/rated high items falling in this group."
   ]
  },
  {
   "cell_type": "markdown",
   "metadata": {},
   "source": [
    "## Are we creating a bubble?\n",
    "We've been using similarity as a proxy for things we want to recommend. However, this has its own disadvantages."
   ]
  },
  {
   "cell_type": "markdown",
   "metadata": {},
   "source": [
    "> Recommending similar items is often a good idea but not always the best strategy to tackle market growth. People might get bored of similar items/movies/products etc. and it would be good to recommend something new and different once in a while so that people get to try new things. This would keep them interested in what the algorithm/company has to offer to them and would lead to more user engagement overall. For example, if a user watched Harry Potter 1, it would be a good idea to not just recommend all the HP series and instead provide some different fantasy options as well like Lord of the Rings, etc."
   ]
  },
  {
   "cell_type": "markdown",
   "metadata": {},
   "source": [
    "## Alternative ways to recommend\n",
    "\n",
    "Another way to recommend items, say movies on Netflix, is to use something like the SVD to fill in the missing entries, and then for each user take the movies for which the predicted ratings is highest. In other words, I'll recommend the movies that I think you'll rate highly.\n"
   ]
  },
  {
   "cell_type": "markdown",
   "metadata": {},
   "source": [
    "> Using this approach, we are trying to learn patterns from the data and trying to represent them in lower dimensions where we don't have missing values. Therefore, this approach is making the use of what the algorithm thinks are similar items. An approach using nearest neighbors on the other hand, depends on other people ratings for the similarity measure. In this case, we will rate items as similar if people with similar item choices have rated those items with similar ratings. So both the approaches differ in their sources of obtaining the missing values of the ratings. Use cases would depend on the size of the data. More items and users would lead to higher dimensions where SVD would give better results. But in cases with smaller dimensions and when we want to recommend based on similar users and their choices, we could go for nearest neighbors. I think the better approach is to find a lower $k$-dimensional representation of the original data which best reconstructs the original data using SVD. This is better than finding clusters in high dimensions which might not give reliable results with distance metrics as a measure of similarity."
   ]
  }
 ],
 "metadata": {
  "anaconda-cloud": {},
  "kernelspec": {
   "display_name": "Python 3",
   "language": "python",
   "name": "python3"
  },
  "language_info": {
   "codemirror_mode": {
    "name": "ipython",
    "version": 3
   },
   "file_extension": ".py",
   "mimetype": "text/x-python",
   "name": "python",
   "nbconvert_exporter": "python",
   "pygments_lexer": "ipython3",
   "version": "3.7.3"
  }
 },
 "nbformat": 4,
 "nbformat_minor": 4
}
